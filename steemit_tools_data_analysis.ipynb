{
 "cells": [
  {
   "cell_type": "code",
   "execution_count": null,
   "metadata": {},
   "outputs": [],
   "source": [
    "import requests\n",
    "import time\n",
    "from bs4 import BeautifulSoup\n",
    "from datetime import datetime\n",
    "import pandas as pd\n",
    "import os\n",
    "import urllib.request\n",
    "\n",
    "import json\n",
    "import requests\n",
    "\n",
    "import csv"
   ]
  },
  {
   "cell_type": "code",
   "execution_count": null,
   "metadata": {},
   "outputs": [],
   "source": [
    "url = \"file:///C:/Users/Lenovo/Documents/Jupyter%20Notebooks/steemit_data_extraction/SteemTools.com%20-%20An%20overview%20of%20Tools%20&%20Services%20for%20Steem.html\"\n",
    "content = urllib.request.urlopen(url).read()\n",
    "soup = BeautifulSoup(content,'html.parser')\n",
    "bordy = soup.find_all('div',class_='bordy')\n",
    "\n"
   ]
  },
  {
   "cell_type": "code",
   "execution_count": null,
   "metadata": {},
   "outputs": [],
   "source": [
    "name = []\n",
    "creator = []\n",
    "description = []\n",
    "website = []\n",
    "upvote = []\n",
    "\n",
    "for b in bordy:\n",
    "    name.append(b.find('h3').string)\n",
    "    creator.append(b.find('p',class_='user').find('a')['href'])\n",
    "    description.append(b.find_all('p')[1].string)\n",
    "    website.append(b.find('p',class_='srclink').find('a')['href'])\n",
    "    upvote.append(b.find('span',class_='lb-count').string)\n",
    "\n",
    "data = {'name':name,'creator':creator,'description':description,'website':website,'upvote':upvote}\n",
    "df = pd.DataFrame(data)\n",
    "df.to_csv(\"C:\\\\Users\\\\Lenovo\\\\Documents\\\\Jupyter Notebooks\\\\steemit_data_extraction\\\\steemit_tools_data.csv\")ok = 0\n",
    "nok = 0\n",
    "status = []\n",
    "for url in website:\n",
    "    try:\n",
    "        r = requests.get(url)\n",
    "        print('processing {0} - {1}'.format(url,r.status_code))\n",
    "        status.append(r.status_code)\n",
    "    except requests.exceptions.HTTPError as errh:\n",
    "        print (\"Http Error:\",errh)\n",
    "        status.append('0')\n",
    "    except requests.exceptions.ConnectionError as errc:\n",
    "        print (\"Error Connecting:\",errc)\n",
    "        status.append('0')\n",
    "    except requests.exceptions.Timeout as errt:\n",
    "        print (\"Timeout Error:\",errt)\n",
    "        status.append('0')\n",
    "    except requests.exceptions.RequestException as err:\n",
    "        print (\"OOps: Something Else\",err)\n",
    "        status.append('0')\n"
   ]
  },
  {
   "cell_type": "code",
   "execution_count": null,
   "metadata": {},
   "outputs": [],
   "source": [
    "data = {'name':name,'creator':creator,'description':description,'website':website,'upvote':upvote,'status':status}\n",
    "df = pd.DataFrame(data)\n",
    "df.to_csv(\"C:\\\\Users\\\\Lenovo\\\\Documents\\\\Jupyter Notebooks\\\\steemit_data_extraction\\\\steemit_tools_data.csv\")"
   ]
  }
 ],
 "metadata": {
  "kernelspec": {
   "display_name": "Python 3",
   "language": "python",
   "name": "python3"
  },
  "language_info": {
   "codemirror_mode": {
    "name": "ipython",
    "version": 3
   },
   "file_extension": ".py",
   "mimetype": "text/x-python",
   "name": "python",
   "nbconvert_exporter": "python",
   "pygments_lexer": "ipython3",
   "version": "3.5.4"
  }
 },
 "nbformat": 4,
 "nbformat_minor": 2
}
